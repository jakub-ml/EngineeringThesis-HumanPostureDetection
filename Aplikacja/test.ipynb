{
 "cells": [
  {
   "cell_type": "code",
   "execution_count": 8,
   "metadata": {},
   "outputs": [
    {
     "data": {
      "text/plain": [
       "array([[[152, 163, 144],\n",
       "        [153, 164, 145],\n",
       "        [157, 168, 149],\n",
       "        ...,\n",
       "        [144, 170, 172],\n",
       "        [145, 171, 174],\n",
       "        [138, 164, 167]],\n",
       "\n",
       "       [[154, 166, 146],\n",
       "        [158, 169, 150],\n",
       "        [159, 170, 151],\n",
       "        ...,\n",
       "        [141, 167, 168],\n",
       "        [146, 171, 171],\n",
       "        [143, 168, 168]],\n",
       "\n",
       "       [[159, 169, 155],\n",
       "        [161, 170, 157],\n",
       "        [160, 170, 158],\n",
       "        ...,\n",
       "        [143, 166, 165],\n",
       "        [144, 165, 163],\n",
       "        [145, 166, 164]],\n",
       "\n",
       "       ...,\n",
       "\n",
       "       [[142, 158, 149],\n",
       "        [141, 156, 149],\n",
       "        [140, 155, 147],\n",
       "        ...,\n",
       "        [104, 103,  85],\n",
       "        [103,  95,  78],\n",
       "        [110, 102,  85]],\n",
       "\n",
       "       [[145, 155, 141],\n",
       "        [144, 158, 144],\n",
       "        [140, 156, 144],\n",
       "        ...,\n",
       "        [ 73,  67,  47],\n",
       "        [ 73,  62,  42],\n",
       "        [102,  89,  70]],\n",
       "\n",
       "       [[150, 160, 145],\n",
       "        [148, 161, 147],\n",
       "        [145, 161, 148],\n",
       "        ...,\n",
       "        [ 56,  48,  29],\n",
       "        [ 71,  59,  40],\n",
       "        [ 98,  86,  66]]], dtype=uint8)"
      ]
     },
     "execution_count": 8,
     "metadata": {},
     "output_type": "execute_result"
    }
   ],
   "source": [
    "import cv2\n",
    "\n",
    "camera = cv2.VideoCapture(0)\n",
    "\n",
    "camera.isOpened()\n",
    "ret, frame = camera.read()\n",
    "frame"
   ]
  }
 ],
 "metadata": {
  "kernelspec": {
   "display_name": "gradio_env",
   "language": "python",
   "name": "python3"
  },
  "language_info": {
   "codemirror_mode": {
    "name": "ipython",
    "version": 3
   },
   "file_extension": ".py",
   "mimetype": "text/x-python",
   "name": "python",
   "nbconvert_exporter": "python",
   "pygments_lexer": "ipython3",
   "version": "3.9.20"
  }
 },
 "nbformat": 4,
 "nbformat_minor": 2
}
